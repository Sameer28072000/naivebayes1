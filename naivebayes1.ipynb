{
 "cells": [
  {
   "cell_type": "markdown",
   "id": "c6bd3210-cd84-41ff-a715-7b41d608073c",
   "metadata": {},
   "source": [
    "Q1. What is Bayes' theorem?"
   ]
  },
  {
   "cell_type": "code",
   "execution_count": null,
   "id": "a84b6347-5bc7-4a2e-bc81-4264fabfc243",
   "metadata": {},
   "outputs": [],
   "source": [
    "Ans:Bayes theorem, named after the mathematician and statistician Thomas Bayes,\n",
    "     is a fundamental concept in probability theory and statistics. "
   ]
  },
  {
   "cell_type": "markdown",
   "id": "f15483d8-8250-4546-b330-0ad1e2bea149",
   "metadata": {},
   "source": [
    "Q2. What is the formula for Bayes theorem?"
   ]
  },
  {
   "cell_type": "code",
   "execution_count": null,
   "id": "3f59a7b3-11d0-4fa4-95f8-83278f16e9c7",
   "metadata": {},
   "outputs": [],
   "source": [
    "Ans:-P(A|B) = (P(A)*P(B|A)) / P(B)\n",
    "\n",
    "where,\n",
    "     P(A)=Probability of event A \n",
    "      P(B|A)=Probability of event B given A has occured\n",
    "        P(B)=Probability of event B"
   ]
  },
  {
   "cell_type": "markdown",
   "id": "c67617cc-f80d-405b-8d8b-31374f98c56a",
   "metadata": {},
   "source": [
    "Q3. How is Bayes theorem used in practice?"
   ]
  },
  {
   "cell_type": "code",
   "execution_count": null,
   "id": "b903470f-494b-4c5c-9e8d-a531d2e8aea5",
   "metadata": {},
   "outputs": [],
   "source": [
    "Ans:-\n",
    "     i.machine learning\n",
    "      ii.text classification\n",
    "        iii.bayesian interface"
   ]
  },
  {
   "cell_type": "markdown",
   "id": "5587b742-ed0e-4138-a2bd-e8970286c591",
   "metadata": {},
   "source": [
    "Q4. What is the relationship between Bayes theorem and conditional probability?"
   ]
  },
  {
   "cell_type": "code",
   "execution_count": null,
   "id": "c38cef68-890d-4c48-be03-b89126d8a793",
   "metadata": {},
   "outputs": [],
   "source": [
    "Ans:-Bayes theorem and conditional probability are closely related in probability theory.\n",
    "     where,\n",
    "       P(A)=Probability of event A \n",
    "         P(B|A)=Probability of event B given A has occured\n",
    "            P(B)=Probability of event B"
   ]
  },
  {
   "cell_type": "markdown",
   "id": "bc09dc28-3bf9-4686-bbd1-aabb740b1fcb",
   "metadata": {},
   "source": [
    "Q5. How do you choose which type of Naive Bayes classifier to use for any given problem?"
   ]
  },
  {
   "cell_type": "code",
   "execution_count": null,
   "id": "c74aa9b1-84d9-4702-8627-0a8de5e3eda9",
   "metadata": {},
   "outputs": [],
   "source": [
    "Ans:- The choice depends on how well the assumptions align with the problem at hand.\n",
    "      i.Guassian naive bayes\n",
    "        ii.multinomial naive bayes\n",
    "          iii.Bernoulli naive bayes"
   ]
  },
  {
   "cell_type": "markdown",
   "id": "76d4c704-4ca2-44f1-b3b6-c1af7e319e6c",
   "metadata": {},
   "source": [
    "Q6. Assignment:\n",
    "You have a dataset with two features, X1 and X2, and two possible classes, A and B. You want to use Naive\n",
    "Bayes to classify a new instance with features X1 = 3 and X2 = 4. The following table shows the frequency of\n",
    "each feature value for each class:\n",
    "Class X1=1 X1=2 X1=3 X2=1 X2=2 X2=3 X2=4\n",
    "A 3 3 4 4 3 3 3\n",
    "B 2 2 1 2 2 2 3\n",
    "Assuming equal prior probabilities for each class, which class would Naive Bayes predict the new instance\n",
    "to belong to?"
   ]
  },
  {
   "cell_type": "code",
   "execution_count": null,
   "id": "dfae1322-c915-4b84-922d-1c7263c365a0",
   "metadata": {},
   "outputs": [],
   "source": [
    "Ans:-\n",
    "     i.P(A) = P(B) = 1/2 (assuming equal prior probabilities for each class)\n",
    "      ii.P(X1=3|A) = 4/13\n",
    "          P(X1=3|B) = 1/7\n",
    "            P(X2=4|A) = 3/13\n",
    "                P(X2=4|B) = 3/7\n",
    "            iii.P(A|X1=3, X2=4) = P(X1=3|A) * P(X2=4|A) * P(A) = (4/13) * (3/13) * (1/2) = 12/338\n",
    "                   P(B|X1=3, X2=4) = P(X1=3|B) * P(X2=4|B) * P(B) = (1/7) * (3/7) * (1/2) = 3/98\n",
    "                iv.P(A|X1=3, X2=4) = (12/338) / [(12/338) + (3/98)] ≈ 0.951\n",
    "                \n",
    "                      P(B|X1=3, X2=4) = (3/98) / [(12/338) + (3/98)] ≈ 0.049"
   ]
  }
 ],
 "metadata": {
  "kernelspec": {
   "display_name": "Python 3 (ipykernel)",
   "language": "python",
   "name": "python3"
  },
  "language_info": {
   "codemirror_mode": {
    "name": "ipython",
    "version": 3
   },
   "file_extension": ".py",
   "mimetype": "text/x-python",
   "name": "python",
   "nbconvert_exporter": "python",
   "pygments_lexer": "ipython3",
   "version": "3.10.8"
  }
 },
 "nbformat": 4,
 "nbformat_minor": 5
}
